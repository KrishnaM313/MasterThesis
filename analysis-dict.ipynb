{
 "metadata": {
  "language_info": {
   "codemirror_mode": {
    "name": "ipython",
    "version": 3
   },
   "file_extension": ".py",
   "mimetype": "text/x-python",
   "name": "python",
   "nbconvert_exporter": "python",
   "pygments_lexer": "ipython3",
   "version": "3.8.5-final"
  },
  "orig_nbformat": 2,
  "kernelspec": {
   "name": "python3",
   "display_name": "Python 3.8.5 64-bit ('master-thesis': conda)",
   "metadata": {
    "interpreter": {
     "hash": "5e1d0a64aa647176d1c9b334924e04efc31d28d141e834761ba58d608da4de18"
    }
   }
  }
 },
 "nbformat": 4,
 "nbformat_minor": 2,
 "cells": [
  {
   "source": [
    "# Extract Speeches from EU API"
   ],
   "cell_type": "markdown",
   "metadata": {}
  },
  {
   "source": [
    "## Connect to Azure ML"
   ],
   "cell_type": "markdown",
   "metadata": {}
  },
  {
   "cell_type": "code",
   "execution_count": 1,
   "metadata": {},
   "outputs": [],
   "source": []
  },
  {
   "cell_type": "code",
   "execution_count": 7,
   "metadata": {},
   "outputs": [
    {
     "output_type": "stream",
     "name": "stdout",
     "text": [
      "Master1\nMaster\neastus2\n491c115b-973e-4895-9b38-f849bc0cfd4d\n"
     ]
    }
   ],
   "source": [
    "from azureml.core import Workspace\n",
    "ws = Workspace.from_config() # can be downloaded from Azure Machine Learning Workspace\n",
    "print(ws.name, ws.resource_group, ws.location, ws.subscription_id, sep = '\\n')\n",
    "#ws = Workspace.get(name=\"myworkspace\",\n",
    "#             subscription_id='<azure-subscription-id>',\n",
    "#             resource_group='myresourcegroup')\n",
    "#myenv = Environment.from_conda_specification(name = \"myenv\",                                           file_path = \"requirements.txt\")"
   ]
  },
  {
   "cell_type": "code",
   "execution_count": 25,
   "metadata": {},
   "outputs": [
    {
     "output_type": "stream",
     "name": "stdout",
     "text": [
      "found existing compute target.\n"
     ]
    }
   ],
   "source": [
    "from azureml.core.compute import ComputeTarget, AmlCompute\n",
    "aml_compute_target = \"master1-cluster\"\n",
    "aml_compute = AmlCompute(ws, aml_compute_target)\n",
    "print(\"found existing compute target.\")"
   ]
  },
  {
   "cell_type": "code",
   "execution_count": 8,
   "metadata": {},
   "outputs": [],
   "source": [
    "from azureml.core import Experiment\n",
    "experiment_name = 'train-on-local'\n",
    "exp = Experiment(workspace=ws, name=experiment_name)"
   ]
  },
  {
   "cell_type": "code",
   "execution_count": 38,
   "metadata": {},
   "outputs": [],
   "source": [
    "from azureml.core import Datastore\n",
    "# Get file storage associated with the workspace\n",
    "#def_file_store = Datastore(ws, \"master1test\")\n",
    "#def_blob_store = Datastore(ws, \"workspaceblobstore\")\n",
    "def_data_store = ws.get_default_datastore()"
   ]
  },
  {
   "cell_type": "code",
   "execution_count": 10,
   "metadata": {},
   "outputs": [],
   "source": []
  },
  {
   "cell_type": "code",
   "execution_count": 19,
   "metadata": {},
   "outputs": [],
   "source": [
    "from azureml.pipeline.core import Pipeline\n",
    "from azureml.pipeline.steps import PythonScriptStep"
   ]
  },
  {
   "cell_type": "code",
   "execution_count": 39,
   "metadata": {},
   "outputs": [
    {
     "output_type": "stream",
     "name": "stdout",
     "text": [
      "Created step Download_Year_Info [9935697e][3250c30d-9301-4c18-9dac-5b4dc920c58c], (This step will run and generate new outputs)\n",
      "Submitted PipelineRun 5add64a1-cccb-4c86-ae32-f12b5638d5b7\n",
      "Link to Azure Machine Learning Portal: https://ml.azure.com/experiments/My-Experiment/runs/5add64a1-cccb-4c86-ae32-f12b5638d5b7?wsid=/subscriptions/491c115b-973e-4895-9b38-f849bc0cfd4d/resourcegroups/Master/workspaces/Master1\n"
     ]
    },
    {
     "output_type": "display_data",
     "data": {
      "text/plain": "_PipelineWidget(widget_settings={'childWidgetDisplay': 'popup', 'send_telemetry': False, 'log_level': 'INFO', …",
      "application/vnd.jupyter.widget-view+json": {
       "version_major": 2,
       "version_minor": 0,
       "model_id": "2e54150a28c445f8bb7b64bec986a9f0"
      }
     },
     "metadata": {}
    },
    {
     "output_type": "display_data",
     "data": {
      "application/aml.mini.widget.v1": "\"AuthenticationException:\\n\\tMessage: No subscriptions were found for 'None'. If this is expected, use '--allow-no-subscriptions' to have tenant level accesses\\n\\tInnerException None\\n\\tErrorResponse \\n{\\n    \\\"error\\\": {\\n        \\\"code\\\": \\\"UserError\\\",\\n        \\\"inner_error\\\": {\\n            \\\"code\\\": \\\"Authentication\\\"\\n        },\\n        \\\"message\\\": \\\"No subscriptions were found for 'None'. If this is expected, use '--allow-no-subscriptions' to have tenant level accesses\\\"\\n    }\\n}\""
     },
     "metadata": {}
    }
   ],
   "source": [
    "from azureml.core import Environment\n",
    "myenv = Environment.from_pip_requirements(name = \"myenv\", file_path = \"requirements.txt\")\n",
    "#from azureml.core import ScriptRunConfig\n",
    "#src = ScriptRunConfig(source_directory='./scripts/01_download_year_info', script='01_download_year_info.py', environment=myenv)\n",
    "#run = exp.submit(config=src)\n",
    "#run.wait_for_completion(show_output=True)\n",
    "\n",
    "#inputs=[input_ds.as_named_input('weather_ds')],\n",
    "#compute_target=compute_target,\n",
    "#outputs=[output_ds],\n",
    "\n",
    "from azureml.pipeline.core import Pipeline, PipelineData\n",
    "year_api_response = PipelineData(\"processed_data1\",datastore=def_data_store)\n",
    "#parliament_session_txts = PipelineData(\"processed_data2\",datastore=def_file_store)\n",
    "\n",
    "download_year_info = PythonScriptStep(\n",
    "    name='Download_Year_Info',\n",
    "    script_name='download.py', \n",
    "    arguments=[\"--output\", year_api_response],\n",
    "    compute_target=aml_compute,\n",
    "    outputs=[year_api_response],\n",
    "    source_directory='./scripts/01_download_year_info')\n",
    "\n",
    "ingest_transcripts = PythonScriptStep(\n",
    "    name='Download_Year_Info',\n",
    "    script_name='ingest.py', \n",
    "    arguments=[\"--input_data\", year_api_response, \n",
    "        \"--output_data\", parliament_session_txts,\n",
    "        \"--datastore_name\",\"master1test\"],\n",
    "    inputs=[year_api_response],\n",
    "    compute_target=aml_compute,\n",
    "    outputs=[parliament_session_txts],\n",
    "    source_directory='./scripts/02_ingest_transcripts')\n",
    "\n",
    "# Use a RunConfiguration to specify some additional requirements for this step.\n",
    "from azureml.core.runconfig import RunConfiguration\n",
    "from azureml.core.conda_dependencies import CondaDependencies\n",
    "from azureml.core.runconfig import DEFAULT_CPU_IMAGE\n",
    "\n",
    "# create a new runconfig object\n",
    "run_config = RunConfiguration()\n",
    "\n",
    "# enable Docker \n",
    "run_config.environment.docker.enabled = True\n",
    "\n",
    "# set Docker base image to the default CPU-based image\n",
    "run_config.environment.docker.base_image = DEFAULT_CPU_IMAGE\n",
    "\n",
    "# use conda_dependencies.yml to create a conda environment in the Docker image for execution\n",
    "run_config.environment.python.user_managed_dependencies = False\n",
    "\n",
    "# specify CondaDependencies obj\n",
    "run_config.environment.python.conda_dependencies = CondaDependencies.create(conda_packages=['numpy'])\n",
    "\n",
    "\n",
    "steps1 = [download_year_info]\n",
    "\n",
    "pipeline = Pipeline(workspace=ws, steps=steps1)\n",
    "pipeline_run1 = pipeline.submit(\"My-Experiment\")\n",
    "\n",
    "from azureml.widgets import RunDetails\n",
    "RunDetails(pipeline_run1).show()\n",
    "\n",
    "\n",
    "\n"
   ]
  },
  {
   "cell_type": "code",
   "execution_count": 5,
   "metadata": {},
   "outputs": [
    {
     "output_type": "stream",
     "name": "stdout",
     "text": [
      "mcr.microsoft.com/azureml/intelmpi2018.3-ubuntu16.04:20200821.v1\n"
     ]
    }
   ],
   "source": [
    "from azureml.core import Environment\n",
    "docker_env = Environment(\"docker-env\")\n",
    "\n",
    "docker_env.python.user_managed_dependencies = False\n",
    "docker_env.docker.enabled = True\n",
    "\n",
    "\n",
    "# use the default CPU-based Docker image from Azure ML\n",
    "print(docker_env.docker.base_image)\n",
    "\n",
    "# Specify conda dependencies with scikit-learn\n",
    "#docker_env.python.conda_dependencies = cd"
   ]
  },
  {
   "cell_type": "code",
   "execution_count": 9,
   "metadata": {},
   "outputs": [
    {
     "output_type": "stream",
     "name": "stdout",
     "text": [
      "RunId: train-on-local_1609368103_23b4af30\n",
      "Web View: https://ml.azure.com/experiments/train-on-local/runs/train-on-local_1609368103_23b4af30?wsid=/subscriptions/491c115b-973e-4895-9b38-f849bc0cfd4d/resourcegroups/Master/workspaces/Master1\n",
      "\n",
      "Streaming azureml-logs/60_control_log.txt\n",
      "=========================================\n",
      "\n",
      "[2020-12-30T22:41:47.774934] Using urllib.request Python 3.0 or later\n",
      "Streaming log file azureml-logs/60_control_log.txt\n",
      "Starting the daemon thread to refresh tokens in background for process with pid = 80906\n",
      "Running: ['/bin/bash', '/tmp/azureml_runs/train-on-local_1609368103_23b4af30/azureml-environment-setup/docker_env_checker.sh']\n",
      "\n",
      "Materialized image not found on target: azureml/azureml_1a31af1e7a24bf75a2aeeda4db33c10b\n",
      "\n",
      "\n",
      "[2020-12-30T22:41:48.457674] Logging experiment preparation status in history service.\n",
      "Running: ['/bin/bash', '/tmp/azureml_runs/train-on-local_1609368103_23b4af30/azureml-environment-setup/docker_env_builder.sh']\n",
      "Running: ['docker', 'build', '-f', 'azureml-environment-setup/Dockerfile', '-t', 'azureml/azureml_1a31af1e7a24bf75a2aeeda4db33c10b', '.']\n",
      "Sending build context to Docker daemon  554.5kB\n",
      "Step 1/15 : FROM mcr.microsoft.com/azureml/intelmpi2018.3-ubuntu16.04:20200821.v1@sha256:8cee6f674276dddb23068d2710da7f7f95b119412cc482675ac79ba45a4acf99\n",
      " ---> 287916b809d9\n",
      "Step 2/15 : USER root\n",
      " ---> Running in 1f037fae4095\n",
      "Removing intermediate container 1f037fae4095\n",
      " ---> 9a4e3a7dedc7\n",
      "Step 3/15 : RUN mkdir -p $HOME/.cache\n",
      " ---> Running in f73d289cbc39\n",
      "Removing intermediate container f73d289cbc39\n",
      " ---> 5124cbb87ac2\n",
      "Step 4/15 : WORKDIR /\n",
      " ---> Running in f6cb5b0a8711\n",
      "Removing intermediate container f6cb5b0a8711\n",
      " ---> 51b5c1534695\n",
      "Step 5/15 : COPY azureml-environment-setup/99brokenproxy /etc/apt/apt.conf.d/\n",
      " ---> 16a51ad71dca\n",
      "Step 6/15 : RUN if dpkg --compare-versions `conda --version | grep -oE '[^ ]+$'` lt 4.4.11; then conda install conda==4.4.11; fi\n",
      " ---> Running in e659e48105db\n",
      "Removing intermediate container e659e48105db\n",
      " ---> 673c6faa649f\n",
      "Step 7/15 : COPY azureml-environment-setup/mutated_conda_dependencies.yml azureml-environment-setup/mutated_conda_dependencies.yml\n",
      " ---> d7cfbd27b0a0\n",
      "Step 8/15 : RUN ldconfig /usr/local/cuda/lib64/stubs && conda env create -p /azureml-envs/azureml_da3e97fcb51801118b8e80207f3e01ad -f azureml-environment-setup/mutated_conda_dependencies.yml && rm -rf \"$HOME/.cache/pip\" && conda clean -aqy && CONDA_ROOT_DIR=$(conda info --root) && rm -rf \"$CONDA_ROOT_DIR/pkgs\" && find \"$CONDA_ROOT_DIR\" -type d -name __pycache__ -exec rm -rf {} + && ldconfig\n",
      " ---> Running in eeefda29c090\n",
      "Warning: you have pip-installed dependencies in your environment file, but you do not list pip itself as one of your conda dependencies.  Conda may not use the correct pip to install your packages, and they may end up in the wrong place.  Please add an explicit pip dependency.  I'm adding one for you, but still nagging you.\n",
      "Collecting package metadata (repodata.json): ...working... done\n",
      "Solving environment: ...working... done\n",
      "\n",
      "Downloading and Extracting Packages\n",
      "sqlite-3.23.1        | 1.5 MB    | ########## | 100% \n",
      "python-3.6.2         | 27.0 MB   | ########## | 100% \n",
      "libffi-3.2.1         | 52 KB     | ########## | 100% \n",
      "ca-certificates-2020 | 128 KB    | ########## | 100% \n",
      "wheel-0.35.1         | 36 KB     | ########## | 100% \n",
      "xz-5.2.5             | 438 KB    | ########## | 100% \n",
      "readline-7.0         | 387 KB    | ########## | 100% \n",
      "certifi-2020.6.20    | 160 KB    | ########## | 100% \n",
      "libstdcxx-ng-9.1.0   | 4.0 MB    | ########## | 100% \n",
      "zlib-1.2.11          | 120 KB    | ########## | 100% \n",
      "tk-8.6.10            | 3.2 MB    | ########## | 100% \n",
      "ncurses-6.0          | 907 KB    | ########## | 100% \n",
      "libgcc-ng-9.1.0      | 8.1 MB    | ########## | 100% \n",
      "setuptools-50.3.0    | 891 KB    | ########## | 100% \n",
      "pip-20.2.4           | 2.0 MB    | ########## | 100% \n",
      "libedit-3.1          | 171 KB    | ########## | 100% \n",
      "openssl-1.0.2u       | 3.1 MB    | ########## | 100% \n",
      "Preparing transaction: ...working... done\n",
      "Verifying transaction: ...working... done\n",
      "Executing transaction: ...working... done\n"
     ]
    }
   ],
   "source": [
    "import subprocess\n",
    "\n",
    "src.run_config.environment = docker_env\n",
    "\n",
    "# Check if Docker is installed and Linux containers are enabled\n",
    "if subprocess.run(\"docker -v\", shell=True).returncode == 0:\n",
    "    out = subprocess.check_output(\"docker system info\", shell=True).decode('ascii')\n",
    "    if not \"OSType: linux\" in out:\n",
    "        print(\"Switch Docker engine to use Linux containers.\")\n",
    "    else:\n",
    "        run = exp.submit(src)\n",
    "        run.wait_for_completion(show_output = True)\n",
    "else:\n",
    "    print(\"Docker engine is not installed.\")"
   ]
  },
  {
   "cell_type": "code",
   "execution_count": null,
   "metadata": {},
   "outputs": [],
   "source": []
  }
 ]
}